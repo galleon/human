{
 "cells": [
  {
   "cell_type": "raw",
   "id": "79757dce",
   "metadata": {},
   "source": [
    "Following this tutorial : \"Midi in python\"\n",
    "https://www.youtube.com/watch?v=JYslZkc90GI"
   ]
  },
  {
   "cell_type": "raw",
   "id": "ded75ba4",
   "metadata": {},
   "source": [
    "Tuto midi Programmation python \n",
    "https://www.linuxrouen.fr/wp/programmation/introduction-a-la-programmation-midi-avec-python-mido-et-rtmidi-23805/"
   ]
  },
  {
   "cell_type": "raw",
   "id": "1aca3b71",
   "metadata": {},
   "source": [
    "Midi explained\n",
    "https://www.youtube.com/watch?v=2BccxWkUgaU"
   ]
  },
  {
   "cell_type": "raw",
   "id": "7c644abd",
   "metadata": {},
   "source": [
    "Config Apple\n",
    "https://support.apple.com/fr-fr/guide/audio-midi-setup/ams875bae1e0/mac\n",
    "\n",
    "https://natespilman.com/blog/2020-03-23-generating-midi-music-stream-with-python/"
   ]
  },
  {
   "cell_type": "raw",
   "id": "50b55abd",
   "metadata": {},
   "source": [
    "A creuser, notamment pour le \"Live Compiling\"\n",
    "https://www.youtube.com/watch?v=Q40qEg8Yq5c"
   ]
  },
  {
   "cell_type": "raw",
   "id": "6122b90e",
   "metadata": {},
   "source": [
    "A creuser, code pour polysynth \n",
    "https://python.plainenglish.io/build-your-own-python-synthesizer-part-3-162796b7d351"
   ]
  },
  {
   "cell_type": "raw",
   "id": "6c79173d",
   "metadata": {},
   "source": [
    "FluidSynth (en remplacement plus simple de garageband?)\n",
    "https://www.fluidsynth.org"
   ]
  },
  {
   "cell_type": "raw",
   "id": "e3d9bbc3",
   "metadata": {},
   "source": [
    "webserver?\n",
    "https://github.com/narcode/codeklavier-extras"
   ]
  },
  {
   "cell_type": "raw",
   "id": "0cd7b478",
   "metadata": {},
   "source": [
    "comment mapper un output midi à un output garageband?\n",
    "https://support.apple.com/en-hk/guide/audio-midi-setup/ams875bae1e0/3.5/mac/11.0\n",
    "\n",
    "https://www.music.mcgill.ca/~gary/rtmidi/\n",
    "#virtual ports"
   ]
  },
  {
   "cell_type": "code",
   "execution_count": null,
   "id": "b6f614b8",
   "metadata": {},
   "outputs": [],
   "source": [
    "#!pip install python-rtmidi\n",
    "#!pip install mido\n",
    "import string\n",
    "import time\n",
    "\n",
    "import matplotlib.pyplot as plt\n",
    "import mido\n",
    "import rtmidi"
   ]
  },
  {
   "cell_type": "code",
   "execution_count": null,
   "id": "3b800d53",
   "metadata": {},
   "outputs": [],
   "source": [
    "out = rtmidi.MidiOut()"
   ]
  },
  {
   "cell_type": "code",
   "execution_count": null,
   "id": "4a42b2c7",
   "metadata": {},
   "outputs": [],
   "source": [
    "ports_out = out.get_ports()"
   ]
  },
  {
   "cell_type": "code",
   "execution_count": null,
   "id": "783d0cd0",
   "metadata": {},
   "outputs": [],
   "source": [
    "print(mido.get_output_names())  # To list the output ports"
   ]
  },
  {
   "cell_type": "code",
   "execution_count": null,
   "id": "cc5fb167",
   "metadata": {},
   "outputs": [],
   "source": [
    "print(mido.get_input_names())  # To list the input ports"
   ]
  },
  {
   "cell_type": "code",
   "execution_count": null,
   "id": "cf008e2b",
   "metadata": {},
   "outputs": [],
   "source": [
    "# inport = mido.open_input('IAC_Driver logic_to_python')\n",
    "outport_ = mido.open_output(\"IAC_Driver python_to_logic\")"
   ]
  },
  {
   "cell_type": "code",
   "execution_count": null,
   "id": "69b0bf4e",
   "metadata": {},
   "outputs": [],
   "source": [
    "outport_.name"
   ]
  },
  {
   "cell_type": "code",
   "execution_count": null,
   "id": "1b0a2096",
   "metadata": {},
   "outputs": [],
   "source": [
    "# Generate Sound in GarageBand\n",
    "middleC = 60\n",
    "msg = mido.Message(\"note_on\", note=middleC, velocity=64)\n",
    "outport = mido.open_output(outport_.name)\n",
    "outport.send(msg)"
   ]
  },
  {
   "cell_type": "markdown",
   "id": "e80108fc",
   "metadata": {},
   "source": [
    "# On s'amuse "
   ]
  },
  {
   "cell_type": "code",
   "execution_count": null,
   "id": "38579d0b",
   "metadata": {},
   "outputs": [],
   "source": [
    "# une ptite note\n",
    "middleC = 60\n",
    "msg = mido.Message(\"note_on\", note=middleC, velocity=64)\n",
    "outport = mido.open_output(outport_.name)\n",
    "outport.send(msg)"
   ]
  },
  {
   "cell_type": "code",
   "execution_count": null,
   "id": "d0bcd6f1",
   "metadata": {},
   "outputs": [],
   "source": [
    "i = 24  # initialisation variable i pour note 24 = Do1\n",
    "while i < 97:  # boucle notes à jouer dans la gamme Chromatique 24 à 96 / Do1 à Do7\n",
    "    # print(\"Note =\", i)  # affiche numéro de note jouée\n",
    "    outport.send(mido.Message(\"note_on\", note=i, velocity=100))\n",
    "    time.sleep(0.1)  # durée d'environ 1/3 seconde\n",
    "    outport.send(mido.Message(\"note_off\", note=i))\n",
    "    i = i + 2  # incrémentation de l'index i (note jouée)"
   ]
  },
  {
   "cell_type": "markdown",
   "id": "c46bafb2",
   "metadata": {},
   "source": [
    "# Lecture d'un fichier MIDI (local ou distant)"
   ]
  },
  {
   "cell_type": "code",
   "execution_count": null,
   "id": "8b19bfc9",
   "metadata": {},
   "outputs": [],
   "source": [
    "root = \"/Users/WDescamps/Desktop/LeWagon/Music generation/Chords progression/\""
   ]
  },
  {
   "cell_type": "code",
   "execution_count": null,
   "id": "57477bce",
   "metadata": {},
   "outputs": [],
   "source": [
    "lolilol = \"/Users/WDescamps/Desktop/LeWagon/Notebooks_Projets/MIDI_recorder-master/Recordings/rickroll.mid\""
   ]
  },
  {
   "cell_type": "code",
   "execution_count": null,
   "id": "31d5da39",
   "metadata": {},
   "outputs": [],
   "source": [
    "# *** LECTURE d'un FICHIER MIDI ***\n",
    "print(\"===== JOUE un Fichier MIDI... =====\")\n",
    "\n",
    "# ouvre un port OUT-MidO et le connecte à IN QS-M2 Qsynth/FluidSynth\n",
    "port = mido.open_output(outport_.name)\n",
    "\n",
    "# chemin absolu vers le fichier .mid, ici \"blackvelvet.mid\"\n",
    "# mid = mido.MidiFile(root+'/SOUND7-Free-Midi-Chords/06 - F Major - D minor/4 Progression/Minor/hiphop style/D - i bVIIM bVIM bVIIM.mid')\n",
    "test = mido.MidiFile(\n",
    "    lolilol\n",
    ")  # affiche chemin fichier Midi + son type + nb de pistes + nb de messages dans fichier\n",
    "print(\"=>\", test, \"...\\n... ...\")\n",
    "\n",
    "# calcul + affiche la durée de lecture du fichier Midi en h:m:s\n",
    "print(\"=> Durée de lecture =\", time.strftime(\"%Hh:%Mm:%Ss\", time.gmtime(test.length)))\n",
    "print(\"=> Lecture en cours...\")\n",
    "\n",
    "for msg in test.play():  # boucle de lecture du fichier Midi\n",
    "    port.send(msg)  # envoi fichier Midi port MidO-OUT vers IN QS-M2 Qsynth/FS\n",
    "    time.sleep(0.3)\n",
    "\n",
    "port.close()  # ferme proprement le port Midi\n",
    "print(\"=> Fichier MIDI lu... ARRÊT !\")"
   ]
  },
  {
   "cell_type": "markdown",
   "id": "dd7a3ce2",
   "metadata": {},
   "source": [
    "# Lecture midi on disk, conversion en array, reconversion en midi"
   ]
  },
  {
   "cell_type": "markdown",
   "id": "65a3cad9",
   "metadata": {},
   "source": [
    "## Lecture midi on disk + conversion en array"
   ]
  },
  {
   "cell_type": "code",
   "execution_count": null,
   "id": "554c1483",
   "metadata": {},
   "outputs": [],
   "source": [
    "def msg2dict(msg):\n",
    "    result = dict()\n",
    "    if \"note_on\" in msg:\n",
    "        on_ = True\n",
    "    elif \"note_off\" in msg:\n",
    "        on_ = False\n",
    "    else:\n",
    "        on_ = None\n",
    "    result[\"time\"] = int(\n",
    "        msg[msg.rfind(\"time\") :]\n",
    "        .split(\" \")[0]\n",
    "        .split(\"=\")[1]\n",
    "        .translate(str.maketrans({a: None for a in string.punctuation}))\n",
    "    )\n",
    "\n",
    "    if on_ is not None:\n",
    "        for k in [\"note\", \"velocity\"]:\n",
    "            result[k] = int(\n",
    "                msg[msg.rfind(k) :]\n",
    "                .split(\" \")[0]\n",
    "                .split(\"=\")[1]\n",
    "                .translate(str.maketrans({a: None for a in string.punctuation}))\n",
    "            )\n",
    "    return [result, on_]"
   ]
  },
  {
   "cell_type": "code",
   "execution_count": null,
   "id": "732d6582",
   "metadata": {},
   "outputs": [],
   "source": [
    "def get_new_state(new_msg, last_state):\n",
    "    new_msg, on_ = msg2dict(str(new_msg))\n",
    "    new_state = (\n",
    "        switch_note(\n",
    "            last_state, note=new_msg[\"note\"], velocity=new_msg[\"velocity\"], on_=on_\n",
    "        )\n",
    "        if on_ is not None\n",
    "        else last_state\n",
    "    )\n",
    "    return [new_state, new_msg[\"time\"]]\n",
    "\n",
    "\n",
    "def track2seq(track):\n",
    "    # piano has 88 notes, corresponding to note id 21 to 108, any note out of the id range will be ignored\n",
    "    result = []\n",
    "    last_state, last_time = get_new_state(str(track[0]), [0] * 88)\n",
    "    for i in range(1, len(track)):\n",
    "        new_state, new_time = get_new_state(track[i], last_state)\n",
    "        if new_time > 0:\n",
    "            result += [last_state] * new_time\n",
    "        last_state, last_time = new_state, new_time\n",
    "    return result"
   ]
  },
  {
   "cell_type": "code",
   "execution_count": null,
   "id": "0b69d875",
   "metadata": {},
   "outputs": [],
   "source": [
    "def mid2arry(mid, min_msg_pct=0.1):\n",
    "    tracks_len = [len(tr) for tr in mid.tracks]\n",
    "    min_n_msg = max(tracks_len) * min_msg_pct\n",
    "    # convert each track to nested list\n",
    "    all_arys = []\n",
    "    for i in range(len(mid.tracks)):\n",
    "        if len(mid.tracks[i]) > min_n_msg:\n",
    "            ary_i = track2seq(mid.tracks[i])\n",
    "            all_arys.append(ary_i)\n",
    "    # make all nested list the same length\n",
    "    max_len = max([len(ary) for ary in all_arys])\n",
    "    for i in range(len(all_arys)):\n",
    "        if len(all_arys[i]) < max_len:\n",
    "            all_arys[i] += [[0] * 88] * (max_len - len(all_arys[i]))\n",
    "    all_arys = np.array(all_arys)\n",
    "    all_arys = all_arys.max(axis=0)\n",
    "    # trim: remove consecutive 0s in the beginning and at the end\n",
    "    sums = all_arys.sum(axis=1)\n",
    "    ends = np.where(sums > 0)[0]\n",
    "    return all_arys[min(ends) : max(ends)]"
   ]
  },
  {
   "cell_type": "code",
   "execution_count": null,
   "id": "7fe67b16",
   "metadata": {},
   "outputs": [],
   "source": [
    "result_array = mid2arry(mid)\n",
    "\n",
    "plt.plot(\n",
    "    range(result_array.shape[0]),\n",
    "    np.multiply(np.where(result_array > 0, 1, 0), range(1, 89)),\n",
    "    marker=\".\",\n",
    "    markersize=1,\n",
    "    linestyle=\"\",\n",
    ")\n",
    "plt.title(\"Accord midi.mid\")\n",
    "plt.show()"
   ]
  },
  {
   "cell_type": "code",
   "execution_count": null,
   "id": "5eb32e18",
   "metadata": {},
   "outputs": [],
   "source": [
    "result_array.shape\n",
    "# --> Probablement penser à convertir l'array en sparse"
   ]
  },
  {
   "cell_type": "raw",
   "id": "f0614ba1",
   "metadata": {},
   "source": [
    "Questions : \n",
    "--> Comment est ce que la notion de temps est intégrée dans l'array?\n",
    "--> Velocity etc meme question"
   ]
  },
  {
   "cell_type": "markdown",
   "id": "bae84f4e",
   "metadata": {},
   "source": [
    "## Reconversion en midi"
   ]
  },
  {
   "cell_type": "code",
   "execution_count": null,
   "id": "b00cf235",
   "metadata": {},
   "outputs": [],
   "source": [
    "def arry2mid(ary, tempo=500000):\n",
    "    # get the difference\n",
    "    new_ary = np.concatenate([np.array([[0] * 88]), np.array(ary)], axis=0)\n",
    "    changes = new_ary[1:] - new_ary[:-1]\n",
    "    # create a midi file with an empty track\n",
    "    mid_new = mido.MidiFile()\n",
    "    track = mido.MidiTrack()\n",
    "    mid_new.tracks.append(track)\n",
    "    track.append(mido.MetaMessage(\"set_tempo\", tempo=tempo, time=0))\n",
    "    # add difference in the empty track\n",
    "    last_time = 0\n",
    "    for ch in changes:\n",
    "        if set(ch) == {0}:  # no change\n",
    "            last_time += 1\n",
    "        else:\n",
    "            on_notes = np.where(ch > 0)[0]\n",
    "            on_notes_vol = ch[on_notes]\n",
    "            off_notes = np.where(ch < 0)[0]\n",
    "            first_ = True\n",
    "            for n, v in zip(on_notes, on_notes_vol):\n",
    "                new_time = last_time if first_ else 0\n",
    "                track.append(\n",
    "                    mido.Message(\"note_on\", note=n + 21, velocity=v, time=new_time)\n",
    "                )\n",
    "                first_ = False\n",
    "            for n in off_notes:\n",
    "                new_time = last_time if first_ else 0\n",
    "                track.append(\n",
    "                    mido.Message(\"note_off\", note=n + 21, velocity=0, time=new_time)\n",
    "                )\n",
    "                first_ = False\n",
    "            last_time = 0\n",
    "    return mid_new"
   ]
  },
  {
   "cell_type": "code",
   "execution_count": null,
   "id": "7a9066ed",
   "metadata": {},
   "outputs": [],
   "source": [
    "mid_new = arry2mid(result_array, 545455)\n",
    "mid_new.save(\"mid_new.mid\")"
   ]
  },
  {
   "cell_type": "markdown",
   "id": "85108bf0",
   "metadata": {},
   "source": [
    "# Interaction clavier physique/code python"
   ]
  },
  {
   "cell_type": "markdown",
   "id": "ff8ba58e",
   "metadata": {},
   "source": [
    "## Test basique"
   ]
  },
  {
   "cell_type": "raw",
   "id": "7e32e077",
   "metadata": {},
   "source": [
    "Test avec l'interface Midi-recorder trouvée sur ce github : https://github.com/narcode/MIDI_recorder\n",
    "\n",
    "Commande à executer dans le terminal\n",
    "python3 /Users/WDescamps/Desktop/LeWagon/Notebooks_Projets/MIDI_recorder-master/recorder.py"
   ]
  },
  {
   "cell_type": "raw",
   "id": "82ece2a5",
   "metadata": {},
   "source": [
    "Manips à faire : \n",
    "1 - Ouvrir un bus midi avec le driver IAC Apple\n",
    "2 - Chercher ce bus dans Logic Pro\n",
    "3 - Lancer l'enregistrement via la commande du dessus\n",
    "4 - Enregistrer le midi \n",
    "5 - Dans logic, clic droit sur la piste midi, \"reassigner la piste\" -> \"Instr. MIDI\" -> \"Gestionnaire IAC Logic\"\n",
    "\n",
    "--> Ca fonctionne. \n",
    "--> Du coup, trouver une manière de faire pour accelerer cette routine, et l'intégrer directement dans un code python. Ou via une api? cf cours S7J4"
   ]
  },
  {
   "cell_type": "raw",
   "id": "cdddfdbc",
   "metadata": {},
   "source": [
    "https://www.youtube.com/watch?v=02cu2xsF35s"
   ]
  },
  {
   "cell_type": "markdown",
   "id": "e81b03e7",
   "metadata": {},
   "source": [
    "## Upgrade "
   ]
  },
  {
   "cell_type": "raw",
   "id": "97cbed83",
   "metadata": {},
   "source": [
    "Suivre ce lien : \n",
    "https://www.linuxrouen.fr/wp/programmation/scripts-midi-in-avec-python-mido-et-rtmidi-25420/"
   ]
  }
 ],
 "metadata": {
  "kernelspec": {
   "display_name": "Python 3 (ipykernel)",
   "language": "python",
   "name": "python3"
  },
  "language_info": {
   "codemirror_mode": {
    "name": "ipython",
    "version": 3
   },
   "file_extension": ".py",
   "mimetype": "text/x-python",
   "name": "python",
   "nbconvert_exporter": "python",
   "pygments_lexer": "ipython3",
   "version": "3.10.6"
  },
  "toc": {
   "base_numbering": 1,
   "nav_menu": {},
   "number_sections": true,
   "sideBar": true,
   "skip_h1_title": false,
   "title_cell": "Table of Contents",
   "title_sidebar": "Contents",
   "toc_cell": false,
   "toc_position": {},
   "toc_section_display": true,
   "toc_window_display": false
  },
  "varInspector": {
   "cols": {
    "lenName": 16,
    "lenType": 16,
    "lenVar": 40
   },
   "kernels_config": {
    "python": {
     "delete_cmd_postfix": "",
     "delete_cmd_prefix": "del ",
     "library": "var_list.py",
     "varRefreshCmd": "print(var_dic_list())"
    },
    "r": {
     "delete_cmd_postfix": ") ",
     "delete_cmd_prefix": "rm(",
     "library": "var_list.r",
     "varRefreshCmd": "cat(var_dic_list()) "
    }
   },
   "types_to_exclude": [
    "module",
    "function",
    "builtin_function_or_method",
    "instance",
    "_Feature"
   ],
   "window_display": false
  }
 },
 "nbformat": 4,
 "nbformat_minor": 5
}
