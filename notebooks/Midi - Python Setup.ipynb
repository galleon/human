{
 "cells": [
  {
   "cell_type": "markdown",
   "id": "db97c8df",
   "metadata": {},
   "source": [
    "# Import des librairies"
   ]
  },
  {
   "cell_type": "code",
   "execution_count": null,
   "id": "4cf85b61",
   "metadata": {},
   "outputs": [],
   "source": [
    "# A run 1 fois\n",
    "#!pip install python-rtmidi\n",
    "#!pip install mido"
   ]
  },
  {
   "cell_type": "code",
   "execution_count": null,
   "id": "b6f614b8",
   "metadata": {},
   "outputs": [],
   "source": [
    "import string\n",
    "\n",
    "import matplotlib.pyplot as plt\n",
    "import mido\n",
    "import rtmidi"
   ]
  },
  {
   "cell_type": "code",
   "execution_count": null,
   "id": "3b800d53",
   "metadata": {},
   "outputs": [],
   "source": [
    "out = rtmidi.MidiOut()"
   ]
  },
  {
   "cell_type": "code",
   "execution_count": null,
   "id": "4a42b2c7",
   "metadata": {},
   "outputs": [],
   "source": [
    "ports_out = out.get_ports()"
   ]
  },
  {
   "cell_type": "code",
   "execution_count": null,
   "id": "783d0cd0",
   "metadata": {},
   "outputs": [],
   "source": [
    "print(mido.get_output_names())  # To list the output ports"
   ]
  },
  {
   "cell_type": "code",
   "execution_count": null,
   "id": "cc5fb167",
   "metadata": {},
   "outputs": [],
   "source": [
    "print(mido.get_input_names())  # To list the input ports"
   ]
  },
  {
   "cell_type": "code",
   "execution_count": null,
   "id": "cf008e2b",
   "metadata": {},
   "outputs": [],
   "source": [
    "# inport = mido.open_input('IAC_Driver logic_to_python')\n",
    "outport_ = mido.open_output(\"IAC_Driver python_to_logic\")"
   ]
  },
  {
   "cell_type": "code",
   "execution_count": null,
   "id": "69b0bf4e",
   "metadata": {},
   "outputs": [],
   "source": [
    "outport_.name"
   ]
  },
  {
   "cell_type": "markdown",
   "id": "c46bafb2",
   "metadata": {},
   "source": [
    "# Lecture d'un fichier MIDI (local ou distant)"
   ]
  },
  {
   "cell_type": "code",
   "execution_count": null,
   "id": "8b19bfc9",
   "metadata": {},
   "outputs": [],
   "source": [
    "midi_file = \"specify-local-midi-file-path\""
   ]
  },
  {
   "cell_type": "markdown",
   "id": "dd7a3ce2",
   "metadata": {},
   "source": [
    "# Lecture midi on disk, conversion en array, reconversion en midi"
   ]
  },
  {
   "cell_type": "markdown",
   "id": "65a3cad9",
   "metadata": {},
   "source": [
    "## Fonctions de lecture/ecriture/conversion"
   ]
  },
  {
   "cell_type": "code",
   "execution_count": null,
   "id": "dfdd0056",
   "metadata": {},
   "outputs": [],
   "source": [
    "def msg2dict(msg):\n",
    "    result = dict()\n",
    "    if \"note_on\" in msg:\n",
    "        on_ = True\n",
    "    elif \"note_off\" in msg:\n",
    "        on_ = False\n",
    "    else:\n",
    "        on_ = None\n",
    "    result[\"time\"] = int(\n",
    "        msg[msg.rfind(\"time\") :]\n",
    "        .split(\" \")[0]\n",
    "        .split(\"=\")[1]\n",
    "        .translate(str.maketrans({a: None for a in string.punctuation}))\n",
    "    )\n",
    "\n",
    "    if on_ is not None:\n",
    "        for k in [\"note\", \"velocity\"]:\n",
    "            result[k] = int(\n",
    "                msg[msg.rfind(k) :]\n",
    "                .split(\" \")[0]\n",
    "                .split(\"=\")[1]\n",
    "                .translate(str.maketrans({a: None for a in string.punctuation}))\n",
    "            )\n",
    "    return [result, on_]\n",
    "\n",
    "\n",
    "def switch_note(last_state, note, velocity, on_=True):\n",
    "    # piano has 88 notes, corresponding to note id 21 to 108, any note out of this range will be ignored\n",
    "    result = [0] * 88 if last_state is None else last_state.copy()\n",
    "    if 21 <= note <= 108:\n",
    "        result[note - 21] = velocity if on_ else 0\n",
    "    return result\n",
    "\n",
    "\n",
    "def get_new_state(new_msg, last_state):\n",
    "    new_msg, on_ = msg2dict(str(new_msg))\n",
    "    new_state = (\n",
    "        switch_note(\n",
    "            last_state, note=new_msg[\"note\"], velocity=new_msg[\"velocity\"], on_=on_\n",
    "        )\n",
    "        if on_ is not None\n",
    "        else last_state\n",
    "    )\n",
    "    return [new_state, new_msg[\"time\"]]\n",
    "\n",
    "\n",
    "def track2seq(track):\n",
    "    # piano has 88 notes, corresponding to note id 21 to 108, any note out of the id range will be ignored\n",
    "    result = []\n",
    "    last_state, last_time = get_new_state(str(track[0]), [0] * 88)\n",
    "    for i in range(1, len(track)):\n",
    "        new_state, new_time = get_new_state(track[i], last_state)\n",
    "        if new_time > 0:\n",
    "            result += [last_state] * new_time\n",
    "        last_state, last_time = new_state, new_time\n",
    "    return result\n",
    "\n",
    "\n",
    "def mid2arry(mid, min_msg_pct=0.1):\n",
    "    tracks_len = [len(tr) for tr in mid.tracks]\n",
    "    min_n_msg = max(tracks_len) * min_msg_pct\n",
    "    # convert each track to nested list\n",
    "    all_arys = []\n",
    "    for i in range(len(mid.tracks)):\n",
    "        if len(mid.tracks[i]) > min_n_msg:\n",
    "            ary_i = track2seq(mid.tracks[i])\n",
    "            all_arys.append(ary_i)\n",
    "    # make all nested list the same length\n",
    "    max_len = max([len(ary) for ary in all_arys])\n",
    "    for i in range(len(all_arys)):\n",
    "        if len(all_arys[i]) < max_len:\n",
    "            all_arys[i] += [[0] * 88] * (max_len - len(all_arys[i]))\n",
    "    all_arys = np.array(all_arys)\n",
    "    all_arys = all_arys.max(axis=0)\n",
    "    # trim: remove consecutive 0s in the beginning and at the end\n",
    "    sums = all_arys.sum(axis=1)\n",
    "    ends = np.where(sums > 0)[0]\n",
    "    return all_arys[min(ends) : max(ends)]"
   ]
  },
  {
   "cell_type": "markdown",
   "id": "c063900e",
   "metadata": {},
   "source": [
    "## Lecture midi on disk + conversion en array"
   ]
  },
  {
   "cell_type": "code",
   "execution_count": null,
   "id": "00cb2bea",
   "metadata": {},
   "outputs": [],
   "source": [
    "mid = mido.MidiFile(midi_file)"
   ]
  },
  {
   "cell_type": "code",
   "execution_count": null,
   "id": "7fe67b16",
   "metadata": {},
   "outputs": [],
   "source": [
    "result_array = mid2arry(mid)\n",
    "\n",
    "plt.plot(\n",
    "    range(result_array.shape[0]),\n",
    "    np.multiply(np.where(result_array > 0, 1, 0), range(1, 89)),\n",
    "    marker=\".\",\n",
    "    markersize=1,\n",
    "    linestyle=\"\",\n",
    ")\n",
    "plt.title(\"Accord midi.mid\")\n",
    "plt.show()"
   ]
  },
  {
   "cell_type": "code",
   "execution_count": null,
   "id": "5eb32e18",
   "metadata": {},
   "outputs": [],
   "source": [
    "# --> Probablement penser à convertir l'array en sparse\n",
    "result_array.shape"
   ]
  },
  {
   "cell_type": "markdown",
   "id": "bae84f4e",
   "metadata": {},
   "source": [
    "## Reconversion en midi"
   ]
  },
  {
   "cell_type": "code",
   "execution_count": null,
   "id": "b00cf235",
   "metadata": {},
   "outputs": [],
   "source": [
    "def arry2mid(ary, tempo=500000):\n",
    "    # get the difference\n",
    "    new_ary = np.concatenate([np.array([[0] * 88]), np.array(ary)], axis=0)\n",
    "    changes = new_ary[1:] - new_ary[:-1]\n",
    "    # create a midi file with an empty track\n",
    "    mid_new = mido.MidiFile()\n",
    "    track = mido.MidiTrack()\n",
    "    mid_new.tracks.append(track)\n",
    "    track.append(mido.MetaMessage(\"set_tempo\", tempo=tempo, time=0))\n",
    "    # add difference in the empty track\n",
    "    last_time = 0\n",
    "    for ch in changes:\n",
    "        if set(ch) == {0}:  # no change\n",
    "            last_time += 1\n",
    "        else:\n",
    "            on_notes = np.where(ch > 0)[0]\n",
    "            on_notes_vol = ch[on_notes]\n",
    "            off_notes = np.where(ch < 0)[0]\n",
    "            first_ = True\n",
    "            for n, v in zip(on_notes, on_notes_vol):\n",
    "                new_time = last_time if first_ else 0\n",
    "                track.append(\n",
    "                    mido.Message(\"note_on\", note=n + 21, velocity=v, time=new_time)\n",
    "                )\n",
    "                first_ = False\n",
    "            for n in off_notes:\n",
    "                new_time = last_time if first_ else 0\n",
    "                track.append(\n",
    "                    mido.Message(\"note_off\", note=n + 21, velocity=0, time=new_time)\n",
    "                )\n",
    "                first_ = False\n",
    "            last_time = 0\n",
    "    return mid_new"
   ]
  },
  {
   "cell_type": "code",
   "execution_count": null,
   "id": "7a9066ed",
   "metadata": {},
   "outputs": [],
   "source": [
    "mid_new = arry2mid(result_array, 545455)\n",
    "mid_new.save(\"mid_new.mid\")"
   ]
  },
  {
   "cell_type": "markdown",
   "id": "85108bf0",
   "metadata": {},
   "source": [
    "# Optionnel : Interaction clavier physique/code python"
   ]
  },
  {
   "cell_type": "markdown",
   "id": "ff8ba58e",
   "metadata": {},
   "source": [
    "## Test basique"
   ]
  },
  {
   "cell_type": "raw",
   "id": "82ece2a5",
   "metadata": {},
   "source": [
    "Manips à faire : \n",
    "1 - Ouvrir un bus midi avec le driver IAC Apple\n",
    "2 - Chercher ce bus dans Logic Pro\n",
    "3 - Lancer l'enregistrement via la commande du dessus\n",
    "4 - Enregistrer le midi \n",
    "5 - Dans logic, clic droit sur la piste midi, \"reassigner la piste\" -> \"Instr. MIDI\" -> \"Gestionnaire IAC Logic\"\n",
    "\n",
    "--> Ca fonctionne. \n",
    "--> Du coup, trouver une manière de faire pour accelerer cette routine, et l'intégrer directement dans un code python. Ou via une api? cf cours S7J4"
   ]
  },
  {
   "cell_type": "raw",
   "id": "cdddfdbc",
   "metadata": {},
   "source": [
    "https://www.youtube.com/watch?v=02cu2xsF35s"
   ]
  },
  {
   "cell_type": "markdown",
   "id": "e81b03e7",
   "metadata": {},
   "source": [
    "## Upgrade "
   ]
  },
  {
   "cell_type": "raw",
   "id": "97cbed83",
   "metadata": {},
   "source": [
    "Suivre ce lien : \n",
    "https://www.linuxrouen.fr/wp/programmation/scripts-midi-in-avec-python-mido-et-rtmidi-25420/"
   ]
  },
  {
   "cell_type": "markdown",
   "id": "5a835db8",
   "metadata": {},
   "source": [
    "# Modèle de base"
   ]
  }
 ],
 "metadata": {
  "kernelspec": {
   "display_name": "Python 3 (ipykernel)",
   "language": "python",
   "name": "python3"
  },
  "language_info": {
   "codemirror_mode": {
    "name": "ipython",
    "version": 3
   },
   "file_extension": ".py",
   "mimetype": "text/x-python",
   "name": "python",
   "nbconvert_exporter": "python",
   "pygments_lexer": "ipython3",
   "version": "3.10.6"
  },
  "toc": {
   "base_numbering": 1,
   "nav_menu": {},
   "number_sections": true,
   "sideBar": true,
   "skip_h1_title": false,
   "title_cell": "Table of Contents",
   "title_sidebar": "Contents",
   "toc_cell": false,
   "toc_position": {},
   "toc_section_display": true,
   "toc_window_display": false
  },
  "varInspector": {
   "cols": {
    "lenName": 16,
    "lenType": 16,
    "lenVar": 40
   },
   "kernels_config": {
    "python": {
     "delete_cmd_postfix": "",
     "delete_cmd_prefix": "del ",
     "library": "var_list.py",
     "varRefreshCmd": "print(var_dic_list())"
    },
    "r": {
     "delete_cmd_postfix": ") ",
     "delete_cmd_prefix": "rm(",
     "library": "var_list.r",
     "varRefreshCmd": "cat(var_dic_list()) "
    }
   },
   "types_to_exclude": [
    "module",
    "function",
    "builtin_function_or_method",
    "instance",
    "_Feature"
   ],
   "window_display": false
  }
 },
 "nbformat": 4,
 "nbformat_minor": 5
}
