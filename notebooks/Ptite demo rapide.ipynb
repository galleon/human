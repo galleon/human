{
 "cells": [
  {
   "cell_type": "markdown",
   "id": "ef8659c8",
   "metadata": {},
   "source": [
    "## Install et config "
   ]
  },
  {
   "cell_type": "code",
   "execution_count": null,
   "id": "1b32efc6",
   "metadata": {},
   "outputs": [],
   "source": [
    "#!pip install python-rtmidi\n",
    "#!pip install mido\n",
    "import time\n",
    "\n",
    "import mido"
   ]
  },
  {
   "cell_type": "code",
   "execution_count": null,
   "id": "867f1c1a",
   "metadata": {},
   "outputs": [],
   "source": [
    "outport = out.get_ports()\n",
    "print(mido.get_output_names())"
   ]
  },
  {
   "cell_type": "markdown",
   "id": "2954db59",
   "metadata": {},
   "source": [
    "## Python -> Logic Pro"
   ]
  },
  {
   "cell_type": "code",
   "execution_count": null,
   "id": "faec60b9",
   "metadata": {},
   "outputs": [],
   "source": [
    "i = 24  # initialisation variable i pour note 24 = Do1\n",
    "while i < 97:  # boucle notes à jouer dans la gamme Chromatique 24 à 96 / Do1 à Do7\n",
    "    print(\"Note =\", i)  # affiche numéro de note jouée\n",
    "    outport.send(mido.Message(\"note_on\", note=i, velocity=100))\n",
    "    time.sleep(0.1)  # durée d'environ 1/3 seconde\n",
    "    outport.send(mido.Message(\"note_off\", note=i))\n",
    "    i = i + 2  # incrémentation de l'index i (note jouée)"
   ]
  },
  {
   "cell_type": "markdown",
   "id": "2a6b1e68",
   "metadata": {},
   "source": [
    "## Python, lire un MIDI -> Logic Pro "
   ]
  },
  {
   "cell_type": "code",
   "execution_count": null,
   "id": "5dacae65",
   "metadata": {},
   "outputs": [],
   "source": [
    "midi_path = \"/Users/WDescamps/Desktop/LeWagon/Human_in_the_Loop/Chords progression/SOUND7-Free-Midi-Chords 2/01 - C Major - A minor/4 Progression/Major/C - IV I V vi.mid\""
   ]
  },
  {
   "cell_type": "code",
   "execution_count": null,
   "id": "25ee4e38",
   "metadata": {},
   "outputs": [],
   "source": [
    "midi_file = mido.MidiFile(\n",
    "    midi_path\n",
    ")  # affiche chemin fichier Midi + son type + nb de pistes + nb de messages dans fichier\n",
    "\n",
    "outport = mido.open_output(\"IAC_Driver python_to_logic\")  # ouverture du port de sortie\n",
    "\n",
    "for msg in midi_file.play():  # boucle de lecture du fichier Midi\n",
    "    outport.send(msg)  # envoi fichier Midi au port \"out\"\n",
    "\n",
    "outport.close()  # ferme proprement le port Midi"
   ]
  },
  {
   "cell_type": "markdown",
   "id": "2d2a45ee",
   "metadata": {},
   "source": [
    "## Clavier Midi -> Python"
   ]
  },
  {
   "cell_type": "code",
   "execution_count": null,
   "id": "cd31c9eb",
   "metadata": {},
   "outputs": [],
   "source": [
    "nsys = 0\n",
    "naut = 0\n",
    "notes = mido.MidiFile()\n",
    "track_played = mido.MidiTrack()\n",
    "\n",
    "outport = mido.open_output(\"IAC_Driver python_to_logic\")\n",
    "with mido.open_input(\"LPK25\") as inport:  # connexion RtMidi-In au clavier LPK25\n",
    "    for msg in inport:  # passe contenu 'inport' à 'msg'\n",
    "        if msg.bytes() != [\n",
    "            128,\n",
    "            48,\n",
    "            127,\n",
    "        ]:  # teste touche Do2 ON/OFF pour sortir boucle acquisition\n",
    "            outport.send(msg)  # envoie contenu 'msg' à RtMidi-Out vers Synth-In\n",
    "            print(\"Humain: \", msg.bytes())  # affiche contenu 'msg' Humain à l'écran\n",
    "            notes.tracks.append(msg)\n",
    "        else:\n",
    "            outport.reset()  # envoie \"All notes off\" + \"Reset all controllers\" sur chaque canal\n",
    "            # outport.panic() # stoppe toutes notes qui sonnent mais sans RàZ des contrôleurs\n",
    "            outport.close()  # ferme le port RtMidi-Out proprement\n",
    "            if outport.closed:  # test si port bien fermé\n",
    "                print(\"\\nLe port RtMidi a bien été fermé !\")\n",
    "            print(\"\\nTouche DO 2 appuyée puis relachée = EXIT !\", msg.bytes())\n",
    "            print(\"ACQUISITION MIDI-IN TERMINÉE...\")\n",
    "            # exit() # arrête le script avec demande confirmation (fonction IDE utilisé)\n",
    "            break  # Pour jupyter notebook"
   ]
  },
  {
   "cell_type": "code",
   "execution_count": null,
   "id": "63f11a4f",
   "metadata": {},
   "outputs": [],
   "source": [
    "notes"
   ]
  },
  {
   "cell_type": "code",
   "execution_count": null,
   "id": "41ed0199",
   "metadata": {},
   "outputs": [],
   "source": [
    "Idées en tête, vendredi soir minuit:\n",
    "-> Config sur chaque poste, verif que ca marche. Du coup réinitialiser mon mac et le filer à james.\n",
    "-> Présenter ce que j'ai fait jusque la (AIC Driver, BDD, etc)\n",
    "-> Scraper liste de chansons contenant des accords de base\n",
    "-> Comprendre les fichiers Midi\n",
    "-> Comprendre les pistes sur Logic Pro (ou GarageBand?)\n",
    "-> Apprendre basiques de Logic Pro\n",
    "-> Tester piano avec touchpads pour voir si c'est une piste à part \n",
    "-> C'est quoi notre MVP?\n",
    "-> Comment est ce qu'on integre le cloud et une API pour présenter notre taf? / Comment faire autrement sinn?\n",
    "-> Brainstorm régulierement, qu'est ce qui vous ferait marrer? / Kiffer?. Est ce qu'il y a d'autres voies à explorer? \n",
    "-> Créer Github\n",
    "-> Créer Trello\n",
    "\n",
    "Bonus?\n",
    "-> Connecter plusieurs pianos ? \n",
    "-> Jouer avec API Spotify"
   ]
  }
 ],
 "metadata": {
  "kernelspec": {
   "display_name": "Python 3 (ipykernel)",
   "language": "python",
   "name": "python3"
  },
  "language_info": {
   "codemirror_mode": {
    "name": "ipython",
    "version": 3
   },
   "file_extension": ".py",
   "mimetype": "text/x-python",
   "name": "python",
   "nbconvert_exporter": "python",
   "pygments_lexer": "ipython3",
   "version": "3.10.6"
  },
  "toc": {
   "base_numbering": 1,
   "nav_menu": {},
   "number_sections": true,
   "sideBar": true,
   "skip_h1_title": false,
   "title_cell": "Table of Contents",
   "title_sidebar": "Contents",
   "toc_cell": false,
   "toc_position": {},
   "toc_section_display": true,
   "toc_window_display": false
  },
  "varInspector": {
   "cols": {
    "lenName": 16,
    "lenType": 16,
    "lenVar": 40
   },
   "kernels_config": {
    "python": {
     "delete_cmd_postfix": "",
     "delete_cmd_prefix": "del ",
     "library": "var_list.py",
     "varRefreshCmd": "print(var_dic_list())"
    },
    "r": {
     "delete_cmd_postfix": ") ",
     "delete_cmd_prefix": "rm(",
     "library": "var_list.r",
     "varRefreshCmd": "cat(var_dic_list()) "
    }
   },
   "types_to_exclude": [
    "module",
    "function",
    "builtin_function_or_method",
    "instance",
    "_Feature"
   ],
   "window_display": false
  }
 },
 "nbformat": 4,
 "nbformat_minor": 5
}
