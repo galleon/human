{
 "cells": [
  {
   "cell_type": "markdown",
   "id": "ef8659c8",
   "metadata": {},
   "source": [
    "## Install et config "
   ]
  },
  {
   "cell_type": "code",
   "execution_count": 1,
   "id": "1b32efc6",
   "metadata": {
    "ExecuteTime": {
     "end_time": "2023-03-03T16:36:04.012288Z",
     "start_time": "2023-03-03T16:36:03.351182Z"
    }
   },
   "outputs": [
    {
     "name": "stderr",
     "output_type": "stream",
     "text": [
      "Duplicate key in file '/Users/WDescamps/.matplotlib/matplotlibrc', line 2 ('backend: TkAgg')\n"
     ]
    }
   ],
   "source": [
    "#!pip install python-rtmidi\n",
    "#!pip install mido\n",
    "import time\n",
    "import rtmidi\n",
    "import mido\n",
    "from collections import deque\n",
    "import matplotlib.pyplot as plt\n",
    "import string\n",
    "import argparse"
   ]
  },
  {
   "cell_type": "code",
   "execution_count": 4,
   "id": "867f1c1a",
   "metadata": {
    "ExecuteTime": {
     "end_time": "2023-03-03T16:36:37.081493Z",
     "start_time": "2023-03-03T16:36:37.070843Z"
    }
   },
   "outputs": [
    {
     "name": "stdout",
     "output_type": "stream",
     "text": [
      "['LPK25', 'IAC_Driver python_to_logic', 'IAC_Driver logic_to_python', 'LPK25', 'IAC_Driver python_to_logic', 'IAC_Driver logic_to_python']\n"
     ]
    }
   ],
   "source": [
    "outport= out.get_ports()\n",
    "print(mido.get_output_names()) "
   ]
  },
  {
   "cell_type": "markdown",
   "id": "2954db59",
   "metadata": {},
   "source": [
    "## Python -> Logic Pro"
   ]
  },
  {
   "cell_type": "code",
   "execution_count": 5,
   "id": "faec60b9",
   "metadata": {
    "ExecuteTime": {
     "end_time": "2023-03-03T16:36:39.487441Z",
     "start_time": "2023-03-03T16:36:39.459251Z"
    },
    "scrolled": true
   },
   "outputs": [
    {
     "name": "stdout",
     "output_type": "stream",
     "text": [
      "Note = 24\n"
     ]
    },
    {
     "ename": "AttributeError",
     "evalue": "'list' object has no attribute 'send'",
     "output_type": "error",
     "traceback": [
      "\u001b[0;31m---------------------------------------------------------------------------\u001b[0m",
      "\u001b[0;31mAttributeError\u001b[0m                            Traceback (most recent call last)",
      "Cell \u001b[0;32mIn [5], line 4\u001b[0m\n\u001b[1;32m      2\u001b[0m \u001b[38;5;28;01mwhile\u001b[39;00m i \u001b[38;5;241m<\u001b[39m \u001b[38;5;241m97\u001b[39m:  \u001b[38;5;66;03m# boucle notes à jouer dans la gamme Chromatique 24 à 96 / Do1 à Do7\u001b[39;00m\n\u001b[1;32m      3\u001b[0m     \u001b[38;5;28mprint\u001b[39m(\u001b[38;5;124m\"\u001b[39m\u001b[38;5;124mNote =\u001b[39m\u001b[38;5;124m\"\u001b[39m, i)  \u001b[38;5;66;03m# affiche numéro de note jouée\u001b[39;00m\n\u001b[0;32m----> 4\u001b[0m     \u001b[43moutport\u001b[49m\u001b[38;5;241;43m.\u001b[39;49m\u001b[43msend\u001b[49m(mido\u001b[38;5;241m.\u001b[39mMessage(\u001b[38;5;124m'\u001b[39m\u001b[38;5;124mnote_on\u001b[39m\u001b[38;5;124m'\u001b[39m, note\u001b[38;5;241m=\u001b[39mi, velocity\u001b[38;5;241m=\u001b[39m\u001b[38;5;241m100\u001b[39m))\n\u001b[1;32m      5\u001b[0m     time\u001b[38;5;241m.\u001b[39msleep(\u001b[38;5;241m0.1\u001b[39m)  \u001b[38;5;66;03m# durée d'environ 1/3 seconde\u001b[39;00m\n\u001b[1;32m      6\u001b[0m     outport\u001b[38;5;241m.\u001b[39msend(mido\u001b[38;5;241m.\u001b[39mMessage(\u001b[38;5;124m'\u001b[39m\u001b[38;5;124mnote_off\u001b[39m\u001b[38;5;124m'\u001b[39m, note\u001b[38;5;241m=\u001b[39mi))\n",
      "\u001b[0;31mAttributeError\u001b[0m: 'list' object has no attribute 'send'"
     ]
    }
   ],
   "source": [
    "i = 24  # initialisation variable i pour note 24 = Do1\n",
    "while i < 97:  # boucle notes à jouer dans la gamme Chromatique 24 à 96 / Do1 à Do7\n",
    "    print(\"Note =\", i)  # affiche numéro de note jouée\n",
    "    outport.send(mido.Message('note_on', note=i, velocity=100))\n",
    "    time.sleep(0.1)  # durée d'environ 1/3 seconde\n",
    "    outport.send(mido.Message('note_off', note=i))\n",
    "    i = i +2  # incrémentation de l'index i (note jouée)"
   ]
  },
  {
   "cell_type": "markdown",
   "id": "2a6b1e68",
   "metadata": {},
   "source": [
    "## Python, lire un MIDI -> Logic Pro "
   ]
  },
  {
   "cell_type": "code",
   "execution_count": 6,
   "id": "5dacae65",
   "metadata": {
    "ExecuteTime": {
     "end_time": "2023-03-03T16:36:43.118655Z",
     "start_time": "2023-03-03T16:36:43.110335Z"
    }
   },
   "outputs": [],
   "source": [
    "midi_path=\"/Users/WDescamps/Desktop/LeWagon/Human_in_the_Loop/Chords progression/SOUND7-Free-Midi-Chords 2/01 - C Major - A minor/4 Progression/Major/C - IV I V vi.mid\""
   ]
  },
  {
   "cell_type": "code",
   "execution_count": 7,
   "id": "25ee4e38",
   "metadata": {
    "ExecuteTime": {
     "end_time": "2023-03-03T16:36:56.594010Z",
     "start_time": "2023-03-03T16:36:44.574022Z"
    }
   },
   "outputs": [],
   "source": [
    "midi_file= mido.MidiFile(midi_path) # affiche chemin fichier Midi + son type + nb de pistes + nb de messages dans fichier\n",
    "\n",
    "outport = mido.open_output('IAC_Driver python_to_logic') #ouverture du port de sortie\n",
    "\n",
    "for msg in midi_file.play():  # boucle de lecture du fichier Midi\n",
    "    outport.send(msg)      # envoi fichier Midi au port \"out\"\n",
    " \n",
    "outport.close()  # ferme proprement le port Midi"
   ]
  },
  {
   "cell_type": "markdown",
   "id": "2d2a45ee",
   "metadata": {},
   "source": [
    "## Clavier Midi -> Python"
   ]
  },
  {
   "cell_type": "code",
   "execution_count": 8,
   "id": "cd31c9eb",
   "metadata": {
    "ExecuteTime": {
     "end_time": "2023-03-03T16:37:34.478427Z",
     "start_time": "2023-03-03T16:37:09.512522Z"
    }
   },
   "outputs": [
    {
     "name": "stdout",
     "output_type": "stream",
     "text": [
      "Humain:  [144, 64, 75]\n",
      "Humain:  [144, 60, 68]\n",
      "Humain:  [144, 69, 85]\n",
      "Humain:  [128, 64, 127]\n",
      "Humain:  [128, 69, 127]\n",
      "Humain:  [128, 60, 127]\n",
      "Humain:  [144, 64, 87]\n",
      "Humain:  [144, 66, 101]\n",
      "Humain:  [128, 66, 127]\n",
      "Humain:  [128, 64, 127]\n",
      "Humain:  [144, 48, 62]\n",
      "\n",
      "Le port RtMidi a bien été fermé !\n",
      "\n",
      "Touche DO 2 appuyée puis relachée = EXIT ! [128, 48, 127]\n",
      "ACQUISITION MIDI-IN TERMINÉE...\n"
     ]
    }
   ],
   "source": [
    "nsys = 0\n",
    "naut = 0\n",
    "notes = mido.MidiFile()\n",
    "track_played = mido.MidiTrack()\n",
    "\n",
    "outport = mido.open_output('IAC_Driver python_to_logic')\n",
    "with mido.open_input('LPK25') as inport: # connexion RtMidi-In au clavier LPK25\n",
    "    for msg in inport: # passe contenu 'inport' à 'msg'\n",
    "        if msg.bytes() != [128, 48, 127]: # teste touche Do2 ON/OFF pour sortir boucle acquisition\n",
    "            outport.send(msg) # envoie contenu 'msg' à RtMidi-Out vers Synth-In\n",
    "            print(\"Humain: \", msg.bytes()) # affiche contenu 'msg' Humain à l'écran\n",
    "            notes.tracks.append(msg)\n",
    "        else:\n",
    "            outport.reset() # envoie \"All notes off\" + \"Reset all controllers\" sur chaque canal\n",
    "            # outport.panic() # stoppe toutes notes qui sonnent mais sans RàZ des contrôleurs\n",
    "            outport.close() # ferme le port RtMidi-Out proprement\n",
    "            if outport.closed: # test si port bien fermé\n",
    "                print(\"\\nLe port RtMidi a bien été fermé !\")\n",
    "            print(\"\\nTouche DO 2 appuyée puis relachée = EXIT !\", msg.bytes())\n",
    "            print(\"ACQUISITION MIDI-IN TERMINÉE...\")\n",
    "            #exit() # arrête le script avec demande confirmation (fonction IDE utilisé)\n",
    "            break # Pour jupyter notebook"
   ]
  },
  {
   "cell_type": "code",
   "execution_count": 13,
   "id": "63f11a4f",
   "metadata": {
    "ExecuteTime": {
     "end_time": "2023-03-03T16:37:54.344473Z",
     "start_time": "2023-03-03T16:37:54.335211Z"
    },
    "scrolled": true
   },
   "outputs": [
    {
     "data": {
      "text/plain": [
       "MidiFile(type=1, ticks_per_beat=480, tracks=[\n",
       "  Message('note_on', channel=0, note=64, velocity=75, time=0),\n",
       "  Message('note_on', channel=0, note=60, velocity=68, time=0),\n",
       "  Message('note_on', channel=0, note=69, velocity=85, time=0),\n",
       "  Message('note_off', channel=0, note=64, velocity=127, time=0),\n",
       "  Message('note_off', channel=0, note=69, velocity=127, time=0),\n",
       "  Message('note_off', channel=0, note=60, velocity=127, time=0),\n",
       "  Message('note_on', channel=0, note=64, velocity=87, time=0),\n",
       "  Message('note_on', channel=0, note=66, velocity=101, time=0),\n",
       "  Message('note_off', channel=0, note=66, velocity=127, time=0),\n",
       "  Message('note_off', channel=0, note=64, velocity=127, time=0),\n",
       "  Message('note_on', channel=0, note=48, velocity=62, time=0)\n",
       "])"
      ]
     },
     "execution_count": 13,
     "metadata": {},
     "output_type": "execute_result"
    }
   ],
   "source": [
    "notes"
   ]
  },
  {
   "cell_type": "code",
   "execution_count": 14,
   "id": "41ed0199",
   "metadata": {
    "ExecuteTime": {
     "end_time": "2023-03-03T23:21:29.083876Z",
     "start_time": "2023-03-03T23:21:29.064736Z"
    }
   },
   "outputs": [
    {
     "ename": "SyntaxError",
     "evalue": "unterminated string literal (detected at line 3) (3398654772.py, line 3)",
     "output_type": "error",
     "traceback": [
      "\u001b[0;36m  Cell \u001b[0;32mIn [14], line 3\u001b[0;36m\u001b[0m\n\u001b[0;31m    -> Présenter ce que j'ai fait jusque la (AIC Driver, BDD, etc)\u001b[0m\n\u001b[0m                         ^\u001b[0m\n\u001b[0;31mSyntaxError\u001b[0m\u001b[0;31m:\u001b[0m unterminated string literal (detected at line 3)\n"
     ]
    }
   ],
   "source": [
    "Idées en tête, vendredi soir minuit:\n",
    "-> Config sur chaque poste, verif que ca marche. Du coup réinitialiser mon mac et le filer à james.\n",
    "-> Présenter ce que j'ai fait jusque la (AIC Driver, BDD, etc)\n",
    "-> Scraper liste de chansons contenant des accords de base\n",
    "-> Comprendre les fichiers Midi\n",
    "-> Comprendre les pistes sur Logic Pro (ou GarageBand?)\n",
    "-> Apprendre basiques de Logic Pro\n",
    "-> Tester piano avec touchpads pour voir si c'est une piste à part \n",
    "-> C'est quoi notre MVP?\n",
    "-> Comment est ce qu'on integre le cloud et une API pour présenter notre taf? / Comment faire autrement sinn?\n",
    "-> Brainstorm régulierement, qu'est ce qui vous ferait marrer? / Kiffer?. Est ce qu'il y a d'autres voies à explorer? \n",
    "-> Créer Github\n",
    "-> Créer Trello\n",
    "\n",
    "Bonus?\n",
    "-> Connecter plusieurs pianos ? \n",
    "-> Jouer avec API Spotify"
   ]
  },
  {
   "cell_type": "code",
   "execution_count": null,
   "id": "55564af3",
   "metadata": {},
   "outputs": [],
   "source": []
  }
 ],
 "metadata": {
  "kernelspec": {
   "display_name": "Python 3 (ipykernel)",
   "language": "python",
   "name": "python3"
  },
  "language_info": {
   "codemirror_mode": {
    "name": "ipython",
    "version": 3
   },
   "file_extension": ".py",
   "mimetype": "text/x-python",
   "name": "python",
   "nbconvert_exporter": "python",
   "pygments_lexer": "ipython3",
   "version": "3.10.6"
  },
  "toc": {
   "base_numbering": 1,
   "nav_menu": {},
   "number_sections": true,
   "sideBar": true,
   "skip_h1_title": false,
   "title_cell": "Table of Contents",
   "title_sidebar": "Contents",
   "toc_cell": false,
   "toc_position": {},
   "toc_section_display": true,
   "toc_window_display": false
  },
  "varInspector": {
   "cols": {
    "lenName": 16,
    "lenType": 16,
    "lenVar": 40
   },
   "kernels_config": {
    "python": {
     "delete_cmd_postfix": "",
     "delete_cmd_prefix": "del ",
     "library": "var_list.py",
     "varRefreshCmd": "print(var_dic_list())"
    },
    "r": {
     "delete_cmd_postfix": ") ",
     "delete_cmd_prefix": "rm(",
     "library": "var_list.r",
     "varRefreshCmd": "cat(var_dic_list()) "
    }
   },
   "types_to_exclude": [
    "module",
    "function",
    "builtin_function_or_method",
    "instance",
    "_Feature"
   ],
   "window_display": false
  }
 },
 "nbformat": 4,
 "nbformat_minor": 5
}
